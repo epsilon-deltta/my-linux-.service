{
 "cells": [
  {
   "cell_type": "code",
   "execution_count": 5,
   "id": "a61277bf-2d24-4be6-a196-f5d38e07d51d",
   "metadata": {},
   "outputs": [
    {
     "data": {
      "text/plain": [
       "'/home/yp/workspace/hdd0/service'"
      ]
     },
     "execution_count": 5,
     "metadata": {},
     "output_type": "execute_result"
    }
   ],
   "source": [
    "os.path.abspath('./')"
   ]
  },
  {
   "cell_type": "code",
   "execution_count": 8,
   "id": "1c8796c3-0b66-4913-bc71-7650faf61ada",
   "metadata": {},
   "outputs": [
    {
     "data": {
      "text/plain": [
       "'asdf.sh'"
      ]
     },
     "execution_count": 8,
     "metadata": {},
     "output_type": "execute_result"
    }
   ],
   "source": [
    "os.path.basename('asdf.sh')"
   ]
  },
  {
   "cell_type": "code",
   "execution_count": 16,
   "id": "ff42a0f1-512b-4abe-be8d-8ef366d28498",
   "metadata": {},
   "outputs": [],
   "source": [
    "import os\n",
    "target   = 'tfboard.sh'\n",
    "filename = os.path.basename(target)\n",
    "name     = os.path.splitext(target)[0]\n",
    "service_dir = '/etc/systemd/system/'\n",
    "services = [file for file in os.listdir(service_dir) if file.endswith('.service')]\n",
    "if name+'.service' in services:\n",
    "    print(f'{name}.service already exists')\n",
    "else:\n",
    "    "
   ]
  },
  {
   "cell_type": "code",
   "execution_count": 17,
   "id": "23a194c5-e515-4711-b857-dca32117fac7",
   "metadata": {},
   "outputs": [
    {
     "data": {
      "text/plain": [
       "True"
      ]
     },
     "execution_count": 17,
     "metadata": {},
     "output_type": "execute_result"
    }
   ],
   "source": [
    "name+'.service' in services"
   ]
  },
  {
   "cell_type": "code",
   "execution_count": 23,
   "id": "ef23890d-99b8-4e89-ad6f-274ff2c795dc",
   "metadata": {},
   "outputs": [
    {
     "name": "stdout",
     "output_type": "stream",
     "text": [
      "\n"
     ]
    }
   ],
   "source": [
    "import os\n",
    "print(os.popen('sudo netstat -ntlp').read())"
   ]
  },
  {
   "cell_type": "code",
   "execution_count": 22,
   "id": "cefc939e-f912-44aa-946c-c0fddb41b05f",
   "metadata": {},
   "outputs": [
    {
     "name": "stdout",
     "output_type": "stream",
     "text": [
      "[sudo] password for yp: \n"
     ]
    }
   ],
   "source": [
    "!sudo netstat -ntlp"
   ]
  }
 ],
 "metadata": {
  "kernelspec": {
   "display_name": "tor1.9",
   "language": "python",
   "name": "tor1.9"
  },
  "language_info": {
   "codemirror_mode": {
    "name": "ipython",
    "version": 3
   },
   "file_extension": ".py",
   "mimetype": "text/x-python",
   "name": "python",
   "nbconvert_exporter": "python",
   "pygments_lexer": "ipython3",
   "version": "3.6.13"
  }
 },
 "nbformat": 4,
 "nbformat_minor": 5
}
